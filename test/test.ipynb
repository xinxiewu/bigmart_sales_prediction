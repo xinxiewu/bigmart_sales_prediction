{
 "cells": [
  {
   "cell_type": "code",
   "execution_count": 1,
   "metadata": {},
   "outputs": [],
   "source": [
    "import pandas as pd\n",
    "from matplotlib import pyplot as plt\n",
    "import seaborn as sns\n",
    "import category_encoders as ce"
   ]
  },
  {
   "cell_type": "code",
   "execution_count": 2,
   "metadata": {},
   "outputs": [
    {
     "name": "stdout",
     "output_type": "stream",
     "text": [
      "df shape: (8523, 12)\n",
      "columns: Index(['Item_Identifier', 'Item_Fat_Content', 'Item_Type', 'Item_MRP',\n",
      "       'Outlet_Identifier', 'Outlet_Establishment_Year', 'Outlet_Size',\n",
      "       'Outlet_Location_Type', 'Outlet_Type', 'Item_Outlet_Sales',\n",
      "       'Item_Weight', 'Item_Visibility'],\n",
      "      dtype='object')\n"
     ]
    }
   ],
   "source": [
    "df = pd.read_csv('data_complete.csv')\n",
    "print(f\"df shape: {df.shape}\\ncolumns: {df.columns}\")\n",
    "categorical = ['Item_Identifier', 'Item_Fat_Content', 'Item_Type', 'Outlet_Identifier', 'Outlet_Size', 'Outlet_Location_Type', 'Outlet_Type']"
   ]
  },
  {
   "cell_type": "code",
   "execution_count": 7,
   "metadata": {},
   "outputs": [
    {
     "data": {
      "text/html": [
       "<div>\n",
       "<style scoped>\n",
       "    .dataframe tbody tr th:only-of-type {\n",
       "        vertical-align: middle;\n",
       "    }\n",
       "\n",
       "    .dataframe tbody tr th {\n",
       "        vertical-align: top;\n",
       "    }\n",
       "\n",
       "    .dataframe thead th {\n",
       "        text-align: right;\n",
       "    }\n",
       "</style>\n",
       "<table border=\"1\" class=\"dataframe\">\n",
       "  <thead>\n",
       "    <tr style=\"text-align: right;\">\n",
       "      <th></th>\n",
       "      <th>Item_Outlet_Sales</th>\n",
       "    </tr>\n",
       "    <tr>\n",
       "      <th>Outlet_Size</th>\n",
       "      <th></th>\n",
       "    </tr>\n",
       "  </thead>\n",
       "  <tbody>\n",
       "    <tr>\n",
       "      <th>High</th>\n",
       "      <td>2022.7004</td>\n",
       "    </tr>\n",
       "    <tr>\n",
       "      <th>Medium</th>\n",
       "      <td>2120.2401</td>\n",
       "    </tr>\n",
       "    <tr>\n",
       "      <th>Small</th>\n",
       "      <td>1090.5804</td>\n",
       "    </tr>\n",
       "  </tbody>\n",
       "</table>\n",
       "</div>"
      ],
      "text/plain": [
       "             Item_Outlet_Sales\n",
       "Outlet_Size                   \n",
       "High                 2022.7004\n",
       "Medium               2120.2401\n",
       "Small                1090.5804"
      ]
     },
     "execution_count": 7,
     "metadata": {},
     "output_type": "execute_result"
    }
   ],
   "source": [
    "item_identifier = df[['Outlet_Size', 'Item_Outlet_Sales']]\n",
    "# item_identifier['Item_No'] = pd.factorize(item_identifier['Item_Identifier'])[0]\n",
    "# df_0 = pd.DataFrame(item_identifier['Item_Identifier'].value_counts()).reset_index()\n",
    "# item_identifier = item_identifier.merge(df_0,how='left', left_on='Item_Identifier', right_on='index')\n",
    "# sns.scatterplot(data=item_identifier, x='Item_Identifier_y', y='Item_Outlet_Sales')\n",
    "# sns.scatterplot(data=item_identifier, x='Item_No', y='Item_Outlet_Sales')\n",
    "# enc = ce.CatBoostEncoder(cols=['Item_Identifier'])\n",
    "# training = enc.fit_transform(item_identifier['Item_Identifier'], item_identifier['Item_Outlet_Sales'])\n",
    "# res = pd.merge(item_identifier, training, left_index=True, right_index=True)\n",
    "# sns.scatterplot(data=res, x='Item_Identifier_y', y='Item_Outlet_Sales')\n",
    "# res[res['Item_Identifier_x'] == 'FDA15']\n",
    "item_identifier.groupby(by=['Outlet_Size']).median()"
   ]
  }
 ],
 "metadata": {
  "kernelspec": {
   "display_name": "Python 3",
   "language": "python",
   "name": "python3"
  },
  "language_info": {
   "codemirror_mode": {
    "name": "ipython",
    "version": 3
   },
   "file_extension": ".py",
   "mimetype": "text/x-python",
   "name": "python",
   "nbconvert_exporter": "python",
   "pygments_lexer": "ipython3",
   "version": "3.11.2"
  },
  "orig_nbformat": 4
 },
 "nbformat": 4,
 "nbformat_minor": 2
}
