{
 "cells": [
  {
   "cell_type": "code",
   "execution_count": 21,
   "metadata": {},
   "outputs": [],
   "source": [
    "import pandas as pd\n",
    "from matplotlib import pyplot as plt\n",
    "import seaborn as sns\n",
    "import category_encoders as ce\n",
    "from sklearn import preprocessing\n",
    "import numpy as np\n",
    "from sklearn.model_selection import train_test_split\n",
    "import torch\n",
    "from sklearn import linear_model, svm, tree\n",
    "from sklearn.metrics import explained_variance_score, mean_absolute_error, mean_squared_error, r2_score, median_absolute_error"
   ]
  },
  {
   "cell_type": "code",
   "execution_count": 3,
   "metadata": {},
   "outputs": [
    {
     "data": {
      "text/plain": [
       "Index(['Low_Fat', 'Regular', 'Dairy', 'Soft_Drinks', 'Meat',\n",
       "       'Fruits_Vegetables', 'Household', 'Baking', 'Snack', 'Fronzen_Foods',\n",
       "       'Breakfast', 'Health_Hygiene', 'Hard_Drinks', 'Canned', 'Breads',\n",
       "       'Starchy', 'Others', 'Seafood', 'Item_MRP', 'Outlet_Size',\n",
       "       'Outlet_Location_Type', 'Outlet_Type', 'Item_Weight', 'Item_Visibility',\n",
       "       'Outlet_Year', 'Item_Identifier_8', 'Item_Identifier_6',\n",
       "       'Item_Identifier_7', 'Item_Identifier_3', 'Item_Identifier_5',\n",
       "       'Item_Identifier_4', 'Item_Identifier_9', 'Item_Identifier_2',\n",
       "       'Item_Identifier_1', 'Outlet_Freq'],\n",
       "      dtype='object')"
      ]
     },
     "execution_count": 3,
     "metadata": {},
     "output_type": "execute_result"
    }
   ],
   "source": [
    "target = 'Item_Outlet_Sales'\n",
    "training = pd.read_csv('training.csv')\n",
    "testing = pd.read_csv('testing.csv')\n",
    "x_train, x_test, y_train, y_test = training.drop(columns=[target]), testing.drop(columns=[target]), training[target], testing[target]\n",
    "x_train.columns"
   ]
  },
  {
   "cell_type": "code",
   "execution_count": 24,
   "metadata": {},
   "outputs": [],
   "source": [
    "clr = tree.DecisionTreeRegressor().fit(x_train, y_train)\n",
    "y_pred = clr.predict(x_test)"
   ]
  },
  {
   "cell_type": "code",
   "execution_count": 25,
   "metadata": {},
   "outputs": [
    {
     "data": {
      "text/plain": [
       "'1021.82'"
      ]
     },
     "execution_count": 25,
     "metadata": {},
     "output_type": "execute_result"
    }
   ],
   "source": [
    "metric = format(mean_absolute_error(y_test, y_pred), '.2f')\n",
    "metric"
   ]
  }
 ],
 "metadata": {
  "kernelspec": {
   "display_name": "Python 3",
   "language": "python",
   "name": "python3"
  },
  "language_info": {
   "codemirror_mode": {
    "name": "ipython",
    "version": 3
   },
   "file_extension": ".py",
   "mimetype": "text/x-python",
   "name": "python",
   "nbconvert_exporter": "python",
   "pygments_lexer": "ipython3",
   "version": "3.11.2"
  },
  "orig_nbformat": 4
 },
 "nbformat": 4,
 "nbformat_minor": 2
}
