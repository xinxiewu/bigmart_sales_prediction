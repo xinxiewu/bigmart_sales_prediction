{
 "cells": [
  {
   "cell_type": "code",
   "execution_count": 73,
   "metadata": {},
   "outputs": [],
   "source": [
    "import pandas as pd\n",
    "from matplotlib import pyplot as plt\n",
    "import seaborn as sns\n",
    "import category_encoders as ce\n",
    "from sklearn import preprocessing\n",
    "import numpy as np"
   ]
  },
  {
   "cell_type": "code",
   "execution_count": 84,
   "metadata": {},
   "outputs": [
    {
     "name": "stdout",
     "output_type": "stream",
     "text": [
      "df shape: (8523, 36)\n",
      "columns: Index(['Low_Fat', 'Regular', 'Dairy', 'Soft_Drinks', 'Meat',\n",
      "       'Fruits_Vegetables', 'Household', 'Baking', 'Snack', 'Fronzen_Foods',\n",
      "       'Breakfast', 'Health_Hygiene', 'Hard_Drinks', 'Canned', 'Breads',\n",
      "       'Starchy', 'Others', 'Seafood', 'Item_MRP', 'Outlet_Size',\n",
      "       'Outlet_Location_Type', 'Outlet_Type', 'Item_Outlet_Sales',\n",
      "       'Item_Weight', 'Item_Visibility', 'Outlet_Year', 'Item_Identifier_8',\n",
      "       'Item_Identifier_6', 'Item_Identifier_7', 'Item_Identifier_3',\n",
      "       'Item_Identifier_5', 'Item_Identifier_4', 'Item_Identifier_9',\n",
      "       'Item_Identifier_2', 'Item_Identifier_1', 'Outlet_Freq'],\n",
      "      dtype='object')\n"
     ]
    },
    {
     "data": {
      "text/html": [
       "<div>\n",
       "<style scoped>\n",
       "    .dataframe tbody tr th:only-of-type {\n",
       "        vertical-align: middle;\n",
       "    }\n",
       "\n",
       "    .dataframe tbody tr th {\n",
       "        vertical-align: top;\n",
       "    }\n",
       "\n",
       "    .dataframe thead th {\n",
       "        text-align: right;\n",
       "    }\n",
       "</style>\n",
       "<table border=\"1\" class=\"dataframe\">\n",
       "  <thead>\n",
       "    <tr style=\"text-align: right;\">\n",
       "      <th></th>\n",
       "      <th>Low_Fat</th>\n",
       "      <th>Regular</th>\n",
       "      <th>Dairy</th>\n",
       "      <th>Soft_Drinks</th>\n",
       "      <th>Meat</th>\n",
       "      <th>Fruits_Vegetables</th>\n",
       "      <th>Household</th>\n",
       "      <th>Baking</th>\n",
       "      <th>Snack</th>\n",
       "      <th>Fronzen_Foods</th>\n",
       "      <th>...</th>\n",
       "      <th>Item_Identifier_8</th>\n",
       "      <th>Item_Identifier_6</th>\n",
       "      <th>Item_Identifier_7</th>\n",
       "      <th>Item_Identifier_3</th>\n",
       "      <th>Item_Identifier_5</th>\n",
       "      <th>Item_Identifier_4</th>\n",
       "      <th>Item_Identifier_9</th>\n",
       "      <th>Item_Identifier_2</th>\n",
       "      <th>Item_Identifier_1</th>\n",
       "      <th>Outlet_Freq</th>\n",
       "    </tr>\n",
       "  </thead>\n",
       "  <tbody>\n",
       "    <tr>\n",
       "      <th>0</th>\n",
       "      <td>1</td>\n",
       "      <td>0</td>\n",
       "      <td>1</td>\n",
       "      <td>0</td>\n",
       "      <td>0</td>\n",
       "      <td>0</td>\n",
       "      <td>0</td>\n",
       "      <td>0</td>\n",
       "      <td>0</td>\n",
       "      <td>0</td>\n",
       "      <td>...</td>\n",
       "      <td>1</td>\n",
       "      <td>0</td>\n",
       "      <td>0</td>\n",
       "      <td>0</td>\n",
       "      <td>0</td>\n",
       "      <td>0</td>\n",
       "      <td>0</td>\n",
       "      <td>0</td>\n",
       "      <td>0</td>\n",
       "      <td>0.963676</td>\n",
       "    </tr>\n",
       "  </tbody>\n",
       "</table>\n",
       "<p>1 rows × 36 columns</p>\n",
       "</div>"
      ],
      "text/plain": [
       "   Low_Fat  Regular  Dairy  Soft_Drinks  Meat  Fruits_Vegetables  Household  \\\n",
       "0        1        0      1            0     0                  0          0   \n",
       "\n",
       "   Baking  Snack  Fronzen_Foods  ...  Item_Identifier_8  Item_Identifier_6  \\\n",
       "0       0      0              0  ...                  1                  0   \n",
       "\n",
       "   Item_Identifier_7  Item_Identifier_3  Item_Identifier_5  Item_Identifier_4  \\\n",
       "0                  0                  0                  0                  0   \n",
       "\n",
       "   Item_Identifier_9  Item_Identifier_2  Item_Identifier_1  Outlet_Freq  \n",
       "0                  0                  0                  0     0.963676  \n",
       "\n",
       "[1 rows x 36 columns]"
      ]
     },
     "execution_count": 84,
     "metadata": {},
     "output_type": "execute_result"
    }
   ],
   "source": [
    "df = pd.read_csv('data_final.csv')\n",
    "print(f\"df shape: {df.shape}\\ncolumns: {df.columns}\")\n",
    "target = 'Item_Outlet_Sales'\n",
    "df.head(1)"
   ]
  }
 ],
 "metadata": {
  "kernelspec": {
   "display_name": "Python 3",
   "language": "python",
   "name": "python3"
  },
  "language_info": {
   "codemirror_mode": {
    "name": "ipython",
    "version": 3
   },
   "file_extension": ".py",
   "mimetype": "text/x-python",
   "name": "python",
   "nbconvert_exporter": "python",
   "pygments_lexer": "ipython3",
   "version": "3.11.2"
  },
  "orig_nbformat": 4
 },
 "nbformat": 4,
 "nbformat_minor": 2
}
